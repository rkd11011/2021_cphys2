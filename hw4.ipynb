{
 "cells": [
  {
   "cell_type": "markdown",
   "metadata": {},
   "source": [
    "# XOR\n",
    "\n",
    "-하나의 히든 레이어를 도입한다.\n",
    "\n",
    "-input layer는 2개의 노드 + 1개의 바이어스\n",
    "\n",
    "-hidden layer는 3개의 노드 + 1개의 바이어스\n",
    "\n",
    "-output은 하나의 노드로 한다."
   ]
  },
  {
   "cell_type": "code",
   "execution_count": 43,
   "metadata": {},
   "outputs": [],
   "source": [
    "x = [[0,0,1],[1,0,1],[0,1,1],[1,1,1]] # 세번째 항은 bias\n",
    "y = [0,1,1,0]"
   ]
  },
  {
   "cell_type": "markdown",
   "metadata": {},
   "source": [
    "위의 데이터를 neural networks에서 backpropagation을 이용하여으로 학습시켜라."
   ]
  },
  {
   "cell_type": "code",
   "execution_count": 44,
   "metadata": {},
   "outputs": [],
   "source": [
    "import numpy as np\n",
    "import math"
   ]
  },
  {
   "cell_type": "code",
   "execution_count": 45,
   "metadata": {},
   "outputs": [],
   "source": [
    "def f(x):\n",
    "    return 1/(1+np.exp(-x))"
   ]
  },
  {
   "cell_type": "code",
   "execution_count": 46,
   "metadata": {},
   "outputs": [],
   "source": [
    "inp,hid,out=3,4,1"
   ]
  },
  {
   "cell_type": "code",
   "execution_count": 47,
   "metadata": {},
   "outputs": [],
   "source": [
    "np.random.seed(1)\n",
    "w=2*np.random.random((inp,hid))-1\n",
    "om=2*np.random.random((hid,out))-1"
   ]
  },
  {
   "cell_type": "code",
   "execution_count": 48,
   "metadata": {},
   "outputs": [],
   "source": [
    "o=[0,0,0,0]\n",
    "k=0.1\n",
    "se0=[0,0,0,0]\n",
    "sej=[[0,0,0,0],[0,0,0,0],[0,0,0,0],[0,0,0,0]]"
   ]
  },
  {
   "cell_type": "code",
   "execution_count": 49,
   "metadata": {},
   "outputs": [],
   "source": [
    "for i in range(4):\n",
    "    neth=np.dot(x[i],w)\n",
    "    h=f(neth)\n",
    "    neto=np.dot(h,om)\n",
    "    o[i]=f(neto)"
   ]
  },
  {
   "cell_type": "code",
   "execution_count": 50,
   "metadata": {},
   "outputs": [
    {
     "data": {
      "text/plain": [
       "[array([0.47372957]),\n",
       " array([0.54384086]),\n",
       " array([0.48895696]),\n",
       " array([0.54470837])]"
      ]
     },
     "execution_count": 50,
     "metadata": {},
     "output_type": "execute_result"
    }
   ],
   "source": [
    "o"
   ]
  },
  {
   "cell_type": "code",
   "execution_count": 55,
   "metadata": {},
   "outputs": [],
   "source": [
    "for i in range(100):#반복 실행\n",
    "    for i in range(4):\n",
    "        se0[i]=(o[i]-y[i])*f(neto)*(1-f(neto))\n",
    "        o[i]=o[i]-k*se0[i]*h[i]\n",
    "\n",
    "    for i in range(4):\n",
    "        for j in range(4):\n",
    "            sej[i][j]=se0[i]*om[j]*f(neth[j])*(1-f(neth[j]))\n",
    "        \n",
    "    for i in range(4):\n",
    "        for j in range(4):\n",
    "            for v in range(3):\n",
    "                w[v][j]=w[v][j]-k*sej[i][j]*x[i][v]"
   ]
  },
  {
   "cell_type": "code",
   "execution_count": 56,
   "metadata": {},
   "outputs": [
    {
     "data": {
      "text/plain": [
       "[array([0.07131048]),\n",
       " array([0.98118957]),\n",
       " array([0.82425177]),\n",
       " array([0.02402698])]"
      ]
     },
     "execution_count": 56,
     "metadata": {},
     "output_type": "execute_result"
    }
   ],
   "source": [
    "o"
   ]
  },
  {
   "cell_type": "code",
   "execution_count": null,
   "metadata": {},
   "outputs": [],
   "source": []
  }
 ],
 "metadata": {
  "kernelspec": {
   "display_name": "Python 3",
   "language": "python",
   "name": "python3"
  },
  "language_info": {
   "codemirror_mode": {
    "name": "ipython",
    "version": 3
   },
   "file_extension": ".py",
   "mimetype": "text/x-python",
   "name": "python",
   "nbconvert_exporter": "python",
   "pygments_lexer": "ipython3",
   "version": "3.8.5"
  }
 },
 "nbformat": 4,
 "nbformat_minor": 4
}
