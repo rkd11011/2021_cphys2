{
 "cells": [
  {
   "cell_type": "markdown",
   "metadata": {},
   "source": [
    "# MNIST\n",
    "\n",
    "-2개의 히든 레이어를 도입한다.\n",
    "\n",
    "-input layer는 28*28개의 노드\n",
    "\n",
    "-hidden layer의 노드의 수는 자유롭게 설정해도 좋다.\n",
    "\n",
    "-output은 10개(0~9)로 설정한다.\n",
    "\n",
    "test data를 예측하여 정확도를 최대가 되도록 학습하여라.\n",
    "\n",
    "-제출 시 test data의 정확도를 출력하여 제출하세요."
   ]
  },
  {
   "cell_type": "code",
   "execution_count": 178,
   "metadata": {
    "scrolled": false
   },
   "outputs": [
    {
     "data": {
      "text/plain": [
       "Dataset MNIST\n",
       "    Number of datapoints: 10000\n",
       "    Root location: data\n",
       "    Split: Test\n",
       "    StandardTransform\n",
       "Transform: ToTensor()"
      ]
     },
     "execution_count": 178,
     "metadata": {},
     "output_type": "execute_result"
    }
   ],
   "source": [
    "import numpy as np\n",
    "import matplotlib.pyplot as plt\n",
    "import torch\n",
    "import torchvision\n",
    "\n",
    "train_data = torchvision.datasets.MNIST(\n",
    "    root = 'data',\n",
    "    train = True,                         \n",
    "    transform = torchvision.transforms.ToTensor(), \n",
    "    download = True,            \n",
    ")\n",
    "test_data = torchvision.datasets.MNIST(\n",
    "    root = 'data', \n",
    "    train = False, \n",
    "    transform = torchvision.transforms.ToTensor()\n",
    ")\n",
    "\n",
    "train_data\n",
    "\n",
    "test_data # 제출시 이 test 데이터에 대한 정확도를 출력하세요."
   ]
  },
  {
   "cell_type": "code",
   "execution_count": 179,
   "metadata": {},
   "outputs": [],
   "source": [
    "X=torch.flatten(train_data.data,start_dim=1).float()\n",
    "y=train_data.targets\n",
    "X=X/255 # 데이터를 0~1로 정규화\n",
    "\n",
    "X_test=torch.flatten(test_data.data,start_dim=1).float()\n",
    "y_test=test_data.targets\n",
    "X_test=X_test/255 # 데이터를 0~1로 정규화"
   ]
  },
  {
   "cell_type": "code",
   "execution_count": 180,
   "metadata": {},
   "outputs": [],
   "source": [
    "din, dh1, dh2, dout = 28*28,200,100,10\n",
    "model = torch.nn.Sequential(\n",
    "    torch.nn.Linear(din,dh1), # input - hidden1\n",
    "    torch.nn.ReLU(),         # activation function of hidden layer \n",
    "    torch.nn.Linear(dh1,dh2), # input - hidden1\n",
    "    torch.nn.ReLU(),         # activation function of hidden layer \n",
    "    torch.nn.Linear(dh2,dout), # hidden - out\n",
    "    torch.nn.Softmax(dim=1)\n",
    ")\n",
    "\n",
    "# loss and optimizer\n",
    "learning_rate = 0.001\n",
    "criterion = torch.nn.CrossEntropyLoss()\n",
    "optimizer = torch.optim.Adam(model.parameters(),lr=learning_rate)"
   ]
  },
  {
   "cell_type": "code",
   "execution_count": 183,
   "metadata": {},
   "outputs": [],
   "source": [
    "# learning\n",
    "nums_epoch = 501\n",
    "def train(model, criterion, optimizer, nums_epoch, X,y,X_test,y_test):\n",
    "    for epoch in range(nums_epoch):\n",
    "        y_pred = model(X)\n",
    "        y_test_pred = model(X_test)\n",
    "        \n",
    "        loss = criterion(y_pred,y)\n",
    "        optimizer.zero_grad() # zero_grad(): 미분값 초기화\n",
    "        loss.backward() # backpropagation\n",
    "        optimizer.step() # update weights and biases\n",
    "        \n",
    "        if(epoch%10==0):\n",
    "            prediction = y_pred.max(1)[1] # max indices\n",
    "            corrects = (prediction == y)\n",
    "            accuracy = corrects.sum().float() / float( y.size(0) )\n",
    "               \n",
    "            prediction_test = y_test_pred.max(1)[1]\n",
    "            corrects_test = (prediction_test == y_test)\n",
    "            accuracy_test = corrects_test.sum().float() / float( y_test.size(0) )\n",
    "            print(epoch,\"loss=\", loss.item(), \"accu=\", accuracy.item(), \"accu_test=\", accuracy_test.item())"
   ]
  },
  {
   "cell_type": "code",
   "execution_count": 187,
   "metadata": {
    "scrolled": true
   },
   "outputs": [
    {
     "name": "stdout",
     "output_type": "stream",
     "text": [
      "0 loss= 1.4723237752914429 accu= 0.9888666868209839 accu_test= 0.9710000157356262\n",
      "10 loss= 1.4723056554794312 accu= 0.9888833165168762 accu_test= 0.9708999991416931\n",
      "20 loss= 1.4722708463668823 accu= 0.9889166951179504 accu_test= 0.9708999991416931\n",
      "30 loss= 1.4722200632095337 accu= 0.9890000224113464 accu_test= 0.9708999991416931\n",
      "40 loss= 1.472187876701355 accu= 0.9890166521072388 accu_test= 0.9708999991416931\n",
      "50 loss= 1.4721606969833374 accu= 0.9890499711036682 accu_test= 0.9708999991416931\n",
      "60 loss= 1.472141146659851 accu= 0.9890499711036682 accu_test= 0.9707000255584717\n",
      "70 loss= 1.472123146057129 accu= 0.9890833497047424 accu_test= 0.9708999991416931\n",
      "80 loss= 1.4720960855484009 accu= 0.9890999794006348 accu_test= 0.9708999991416931\n",
      "90 loss= 1.4720717668533325 accu= 0.9891166687011719 accu_test= 0.9707000255584717\n",
      "100 loss= 1.472034215927124 accu= 0.9891499876976013 accu_test= 0.9710000157356262\n",
      "110 loss= 1.4720045328140259 accu= 0.9891999959945679 accu_test= 0.9710000157356262\n",
      "120 loss= 1.471981167793274 accu= 0.9891999959945679 accu_test= 0.9708999991416931\n",
      "130 loss= 1.4719560146331787 accu= 0.9892333149909973 accu_test= 0.9711999893188477\n",
      "140 loss= 1.4719297885894775 accu= 0.9892500042915344 accu_test= 0.9710999727249146\n",
      "150 loss= 1.4718910455703735 accu= 0.989300012588501 accu_test= 0.9708999991416931\n",
      "160 loss= 1.4718681573867798 accu= 0.9893166422843933 accu_test= 0.9713000059127808\n",
      "170 loss= 1.4718575477600098 accu= 0.9893166422843933 accu_test= 0.9711999893188477\n",
      "180 loss= 1.4718308448791504 accu= 0.9893500208854675 accu_test= 0.9707000255584717\n",
      "190 loss= 1.471803903579712 accu= 0.989383339881897 accu_test= 0.9707000255584717\n",
      "200 loss= 1.4717886447906494 accu= 0.989383339881897 accu_test= 0.9710000157356262\n",
      "210 loss= 1.4717755317687988 accu= 0.989383339881897 accu_test= 0.9708999991416931\n",
      "220 loss= 1.4717477560043335 accu= 0.9894166588783264 accu_test= 0.9713000059127808\n",
      "230 loss= 1.471729040145874 accu= 0.9894333481788635 accu_test= 0.9715999960899353\n",
      "240 loss= 1.4717090129852295 accu= 0.9894499778747559 accu_test= 0.9711999893188477\n",
      "250 loss= 1.4716919660568237 accu= 0.989466667175293 accu_test= 0.9710999727249146\n",
      "260 loss= 1.4716811180114746 accu= 0.9894833564758301 accu_test= 0.9710999727249146\n",
      "270 loss= 1.471667766571045 accu= 0.9894833564758301 accu_test= 0.9710000157356262\n",
      "280 loss= 1.4716379642486572 accu= 0.9895166754722595 accu_test= 0.9710999727249146\n",
      "290 loss= 1.4716205596923828 accu= 0.9895333051681519 accu_test= 0.9708999991416931\n",
      "300 loss= 1.4716072082519531 accu= 0.989549994468689 accu_test= 0.97079998254776\n",
      "310 loss= 1.4715906381607056 accu= 0.9895666837692261 accu_test= 0.9706000089645386\n",
      "320 loss= 1.4715760946273804 accu= 0.9895833134651184 accu_test= 0.9707000255584717\n",
      "330 loss= 1.4715614318847656 accu= 0.9895833134651184 accu_test= 0.97079998254776\n",
      "340 loss= 1.4715434312820435 accu= 0.9896000027656555 accu_test= 0.9710000157356262\n",
      "350 loss= 1.4715217351913452 accu= 0.989633321762085 accu_test= 0.97079998254776\n",
      "360 loss= 1.471509337425232 accu= 0.989633321762085 accu_test= 0.97079998254776\n",
      "370 loss= 1.4714988470077515 accu= 0.9896500110626221 accu_test= 0.9708999991416931\n",
      "380 loss= 1.4714900255203247 accu= 0.9896500110626221 accu_test= 0.97079998254776\n",
      "390 loss= 1.471482753753662 accu= 0.9896500110626221 accu_test= 0.9706000089645386\n",
      "400 loss= 1.4714665412902832 accu= 0.9896666407585144 accu_test= 0.9711999893188477\n",
      "410 loss= 1.471444845199585 accu= 0.9896833300590515 accu_test= 0.9708999991416931\n",
      "420 loss= 1.4714232683181763 accu= 0.989716649055481 accu_test= 0.9710999727249146\n",
      "430 loss= 1.4714146852493286 accu= 0.989716649055481 accu_test= 0.9706000089645386\n",
      "440 loss= 1.471388339996338 accu= 0.9897500276565552 accu_test= 0.9708999991416931\n",
      "450 loss= 1.4713785648345947 accu= 0.9897500276565552 accu_test= 0.9710000157356262\n",
      "460 loss= 1.4713739156723022 accu= 0.9897500276565552 accu_test= 0.9710000157356262\n",
      "470 loss= 1.4713706970214844 accu= 0.9897500276565552 accu_test= 0.9710999727249146\n",
      "480 loss= 1.471367597579956 accu= 0.9897500276565552 accu_test= 0.9711999893188477\n",
      "490 loss= 1.4713644981384277 accu= 0.9897500276565552 accu_test= 0.9711999893188477\n",
      "500 loss= 1.4713486433029175 accu= 0.9897666573524475 accu_test= 0.9714999794960022\n"
     ]
    }
   ],
   "source": [
    "train(model,criterion, optimizer, nums_epoch, X, y,X_test,y_test);"
   ]
  },
  {
   "cell_type": "markdown",
   "metadata": {},
   "source": [
    "500번 돌리고 오버피팅이 나서 정확도가 떨어지는줄 알고 멈추려고 했는데 갑자기 다시 정확도가 오르기 시작했다.\n",
    "\n",
    "그 뒤로 계속오른다.어디까지오르나 계속 돌려봤다.\n",
    "\n",
    "1000번 근처부터는 정확도가 오르지않고 근처에 머무는 줄 알았는데 다시 평균적으로 정확도가 미미하게 오르기는 하지만 오르는 양이 점점 감소한다.\n",
    "\n",
    "이 모델은 아무리 학습해도 97% 근처가 최고 정확도 인 것으로 보인다.\n",
    "\n",
    "1500번 돌리니 1000번보다 정확도가 0.1%상승했다\n",
    "\n",
    "2000번 때부터는 계속 97%근처값이 나온다 평균 증가량이 점점줄어든다. 더 이상의 학습은 무의미해보인다.\n"
   ]
  },
  {
   "cell_type": "code",
   "execution_count": null,
   "metadata": {},
   "outputs": [],
   "source": []
  }
 ],
 "metadata": {
  "kernelspec": {
   "display_name": "Python 3",
   "language": "python",
   "name": "python3"
  },
  "language_info": {
   "codemirror_mode": {
    "name": "ipython",
    "version": 3
   },
   "file_extension": ".py",
   "mimetype": "text/x-python",
   "name": "python",
   "nbconvert_exporter": "python",
   "pygments_lexer": "ipython3",
   "version": "3.8.5"
  }
 },
 "nbformat": 4,
 "nbformat_minor": 4
}
